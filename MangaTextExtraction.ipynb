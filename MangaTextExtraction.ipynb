{
  "nbformat": 4,
  "nbformat_minor": 0,
  "metadata": {
    "colab": {
      "name": "MangaTextExtraction.ipynb",
      "provenance": [],
      "collapsed_sections": []
    },
    "kernelspec": {
      "name": "python3",
      "display_name": "Python 3"
    },
    "language_info": {
      "name": "python"
    },
    "accelerator": "GPU"
  },
  "cells": [
    {
      "cell_type": "code",
      "metadata": {
        "id": "TZqiWDnFrpxk"
      },
      "source": [
        "from IPython.display import clear_output"
      ],
      "execution_count": 1,
      "outputs": []
    },
    {
      "cell_type": "code",
      "metadata": {
        "id": "t4TS12xGrDkU"
      },
      "source": [
        "!pip install easyocr\n",
        "!pip install pyspellchecker\n",
        "clear_output()"
      ],
      "execution_count": 16,
      "outputs": []
    },
    {
      "cell_type": "code",
      "metadata": {
        "id": "EtXl_KInsMIZ"
      },
      "source": [
        "!unzip blackwhite.zip -d blackwhite\n",
        "clear_output()"
      ],
      "execution_count": 3,
      "outputs": []
    },
    {
      "cell_type": "code",
      "metadata": {
        "id": "tQykDgkKr4HP"
      },
      "source": [
        "from re import findall\n",
        "from os import listdir\n",
        "from easyocr import Reader\n",
        "from torch.cuda import is_available\n",
        "from spellchecker import SpellChecker"
      ],
      "execution_count": 18,
      "outputs": []
    },
    {
      "cell_type": "code",
      "metadata": {
        "id": "HrJixmvArkSE"
      },
      "source": [
        "class MangaTextExtractor:\n",
        "    '''Simple class to extract text from manga pages'''\n",
        "\n",
        "    def __init__(self, folder, lang='ru', max_distance=2):\n",
        "        '''Get the content of folder with manga'''\n",
        "\n",
        "        # getting info about pages\n",
        "        self.folder = folder\n",
        "        self.all_pages = listdir(self.folder)\n",
        "\n",
        "        # deciding where to infer the model\n",
        "        self.GPU = True if is_available() else False\n",
        "\n",
        "        # initializing the reader\n",
        "        self.reader = Reader([lang], gpu=self.GPU)\n",
        "\n",
        "        # initializing the spellchecker\n",
        "        self.checker = SpellChecker(language=lang, distance=max_distance)\n",
        "\n",
        "    def get_text_from_pages(self, confidence=0.1):\n",
        "        '''Return list of texts for each page in a folder'''\n",
        "\n",
        "        # going through each page and appending detected texts\n",
        "        detections = []\n",
        "        for file_name in self.all_pages:\n",
        "\n",
        "            # getting the raw detection from easyocr\n",
        "            detection = self.reader.readtext(f\"{self.folder}/{file_name}\")\n",
        "\n",
        "            # filtering out some predictions by confidence\n",
        "            detection = list(filter(lambda det: det[2] > confidence, detection))\n",
        "\n",
        "            # detecting the words presented in lowercase\n",
        "            words = findall(r'\\w+', \" \".join(list(map(lambda det: det[1].lower(), detection))))\n",
        "\n",
        "            # correcting the spellchecking of those words\n",
        "            misspelled = self.checker.unknown(words)\n",
        "\n",
        "            # replacing misspelled words with correct versions\n",
        "            for i in range(len(words)):\n",
        "                if words[i] in misspelled:\n",
        "                    words[i] = self.checker.correction(words[i])\n",
        "\n",
        "            # appending the corrected words\n",
        "            detections.append(words)\n",
        "\n",
        "        return detections"
      ],
      "execution_count": 65,
      "outputs": []
    },
    {
      "cell_type": "code",
      "metadata": {
        "id": "r0jo83zssQnx"
      },
      "source": [
        "# initializing the MTE engine\n",
        "MTE = MangaTextExtractor('blackwhite')\n",
        "\n",
        "# getting texts from chapter in a folder\n",
        "texts = MTE.get_text_from_pages()\n",
        "\n",
        "# printing it out\n",
        "print(*texts, sep='\\n')"
      ],
      "execution_count": 66,
      "outputs": []
    },
    {
      "cell_type": "code",
      "metadata": {
        "id": "mlaQUjwdvoyI"
      },
      "source": [
        ""
      ],
      "execution_count": null,
      "outputs": []
    }
  ]
}